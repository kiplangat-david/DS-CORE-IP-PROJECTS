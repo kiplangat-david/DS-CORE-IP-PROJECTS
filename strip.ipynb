{
  "nbformat": 4,
  "nbformat_minor": 0,
  "metadata": {
    "colab": {
      "name": "strip.ipynb",
      "provenance": [],
      "authorship_tag": "ABX9TyM0t/qam+H+k244/ggqUJpb",
      "include_colab_link": true
    },
    "kernelspec": {
      "name": "python3",
      "display_name": "Python 3"
    },
    "language_info": {
      "name": "python"
    }
  },
  "cells": [
    {
      "cell_type": "markdown",
      "metadata": {
        "id": "view-in-github",
        "colab_type": "text"
      },
      "source": [
        "<a href=\"https://colab.research.google.com/github/kiplangat-david/DS-CORE-IP-PROJECTS/blob/main/strip.ipynb\" target=\"_parent\"><img src=\"https://colab.research.google.com/assets/colab-badge.svg\" alt=\"Open In Colab\"/></a>"
      ]
    },
    {
      "cell_type": "code",
      "execution_count": 23,
      "metadata": {
        "id": "GZfFCzDgroEd"
      },
      "outputs": [],
      "source": [
        "import pandas as pd\n",
        "import numpy as np\n",
        "import matplotlib.pyplot as plt #for visualization\n",
        "import seaborn as sns #for visualization\n",
        "%matplotlib inline"
      ]
    },
    {
      "cell_type": "code",
      "source": [
        "data = pd.read_csv('Traffic_Collision_Data.csv')\n",
        " \n",
        " #preview top 5 records\n",
        "data.head()"
      ],
      "metadata": {
        "colab": {
          "base_uri": "https://localhost:8080/",
          "height": 704
        },
        "id": "BGuT3yqXsb8f",
        "outputId": "c7c60c48-c3c1-4808-df77-8682e0ecc9ad"
      },
      "execution_count": 24,
      "outputs": [
        {
          "output_type": "execute_result",
          "data": {
            "text/plain": [
              "   DR Number Date Reported Date Occurred  Time Occurred  Area ID   Area Name  \\\n",
              "0  190319651    08/24/2019    08/24/2019            450        3   Southwest   \n",
              "1  190319680    08/30/2019    08/30/2019           2320        3   Southwest   \n",
              "2  190413769    08/25/2019    08/25/2019            545        4  Hollenbeck   \n",
              "3  190127578    11/20/2019    11/20/2019            350        1     Central   \n",
              "4  190319695    08/30/2019    08/30/2019           2100        3   Southwest   \n",
              "\n",
              "   Reporting District  Crime Code Crime Code Description  \\\n",
              "0                 356         997      TRAFFIC COLLISION   \n",
              "1                 355         997      TRAFFIC COLLISION   \n",
              "2                 422         997      TRAFFIC COLLISION   \n",
              "3                 128         997      TRAFFIC COLLISION   \n",
              "4                 374         997      TRAFFIC COLLISION   \n",
              "\n",
              "                             MO Codes  Victim Age Victim Sex Victim Descent  \\\n",
              "0            3036 3004 3026 3101 4003        22.0          M              H   \n",
              "1  3037 3006 3028 3030 3039 3101 4003        30.0          F              H   \n",
              "2            3101 3401 3701 3006 3030         NaN          M              X   \n",
              "3       0605 3101 3401 3701 3011 3034        21.0          M              H   \n",
              "4       0605 4025 3037 3004 3025 3101        49.0          M              B   \n",
              "\n",
              "   Premise Code Premise Description                          Address  \\\n",
              "0         101.0              STREET  JEFFERSON                    BL   \n",
              "1         101.0              STREET  JEFFERSON                    BL   \n",
              "2         101.0              STREET                      N  BROADWAY   \n",
              "3         101.0              STREET                              1ST   \n",
              "4         101.0              STREET            MARTIN LUTHER KING JR   \n",
              "\n",
              "                         Cross Street              Location  \n",
              "0     NORMANDIE                    AV  (34.0255, -118.3002)  \n",
              "1                          W  WESTERN  (34.0256, -118.3089)  \n",
              "2  W  EASTLAKE                     AV  (34.0738, -118.2078)  \n",
              "3                             CENTRAL  (34.0492, -118.2391)  \n",
              "4     ARLINGTON                    AV  (34.0108, -118.3182)  "
            ],
            "text/html": [
              "\n",
              "  <div id=\"df-06d0cc15-7d39-4074-906a-674593394e65\">\n",
              "    <div class=\"colab-df-container\">\n",
              "      <div>\n",
              "<style scoped>\n",
              "    .dataframe tbody tr th:only-of-type {\n",
              "        vertical-align: middle;\n",
              "    }\n",
              "\n",
              "    .dataframe tbody tr th {\n",
              "        vertical-align: top;\n",
              "    }\n",
              "\n",
              "    .dataframe thead th {\n",
              "        text-align: right;\n",
              "    }\n",
              "</style>\n",
              "<table border=\"1\" class=\"dataframe\">\n",
              "  <thead>\n",
              "    <tr style=\"text-align: right;\">\n",
              "      <th></th>\n",
              "      <th>DR Number</th>\n",
              "      <th>Date Reported</th>\n",
              "      <th>Date Occurred</th>\n",
              "      <th>Time Occurred</th>\n",
              "      <th>Area ID</th>\n",
              "      <th>Area Name</th>\n",
              "      <th>Reporting District</th>\n",
              "      <th>Crime Code</th>\n",
              "      <th>Crime Code Description</th>\n",
              "      <th>MO Codes</th>\n",
              "      <th>Victim Age</th>\n",
              "      <th>Victim Sex</th>\n",
              "      <th>Victim Descent</th>\n",
              "      <th>Premise Code</th>\n",
              "      <th>Premise Description</th>\n",
              "      <th>Address</th>\n",
              "      <th>Cross Street</th>\n",
              "      <th>Location</th>\n",
              "    </tr>\n",
              "  </thead>\n",
              "  <tbody>\n",
              "    <tr>\n",
              "      <th>0</th>\n",
              "      <td>190319651</td>\n",
              "      <td>08/24/2019</td>\n",
              "      <td>08/24/2019</td>\n",
              "      <td>450</td>\n",
              "      <td>3</td>\n",
              "      <td>Southwest</td>\n",
              "      <td>356</td>\n",
              "      <td>997</td>\n",
              "      <td>TRAFFIC COLLISION</td>\n",
              "      <td>3036 3004 3026 3101 4003</td>\n",
              "      <td>22.0</td>\n",
              "      <td>M</td>\n",
              "      <td>H</td>\n",
              "      <td>101.0</td>\n",
              "      <td>STREET</td>\n",
              "      <td>JEFFERSON                    BL</td>\n",
              "      <td>NORMANDIE                    AV</td>\n",
              "      <td>(34.0255, -118.3002)</td>\n",
              "    </tr>\n",
              "    <tr>\n",
              "      <th>1</th>\n",
              "      <td>190319680</td>\n",
              "      <td>08/30/2019</td>\n",
              "      <td>08/30/2019</td>\n",
              "      <td>2320</td>\n",
              "      <td>3</td>\n",
              "      <td>Southwest</td>\n",
              "      <td>355</td>\n",
              "      <td>997</td>\n",
              "      <td>TRAFFIC COLLISION</td>\n",
              "      <td>3037 3006 3028 3030 3039 3101 4003</td>\n",
              "      <td>30.0</td>\n",
              "      <td>F</td>\n",
              "      <td>H</td>\n",
              "      <td>101.0</td>\n",
              "      <td>STREET</td>\n",
              "      <td>JEFFERSON                    BL</td>\n",
              "      <td>W  WESTERN</td>\n",
              "      <td>(34.0256, -118.3089)</td>\n",
              "    </tr>\n",
              "    <tr>\n",
              "      <th>2</th>\n",
              "      <td>190413769</td>\n",
              "      <td>08/25/2019</td>\n",
              "      <td>08/25/2019</td>\n",
              "      <td>545</td>\n",
              "      <td>4</td>\n",
              "      <td>Hollenbeck</td>\n",
              "      <td>422</td>\n",
              "      <td>997</td>\n",
              "      <td>TRAFFIC COLLISION</td>\n",
              "      <td>3101 3401 3701 3006 3030</td>\n",
              "      <td>NaN</td>\n",
              "      <td>M</td>\n",
              "      <td>X</td>\n",
              "      <td>101.0</td>\n",
              "      <td>STREET</td>\n",
              "      <td>N  BROADWAY</td>\n",
              "      <td>W  EASTLAKE                     AV</td>\n",
              "      <td>(34.0738, -118.2078)</td>\n",
              "    </tr>\n",
              "    <tr>\n",
              "      <th>3</th>\n",
              "      <td>190127578</td>\n",
              "      <td>11/20/2019</td>\n",
              "      <td>11/20/2019</td>\n",
              "      <td>350</td>\n",
              "      <td>1</td>\n",
              "      <td>Central</td>\n",
              "      <td>128</td>\n",
              "      <td>997</td>\n",
              "      <td>TRAFFIC COLLISION</td>\n",
              "      <td>0605 3101 3401 3701 3011 3034</td>\n",
              "      <td>21.0</td>\n",
              "      <td>M</td>\n",
              "      <td>H</td>\n",
              "      <td>101.0</td>\n",
              "      <td>STREET</td>\n",
              "      <td>1ST</td>\n",
              "      <td>CENTRAL</td>\n",
              "      <td>(34.0492, -118.2391)</td>\n",
              "    </tr>\n",
              "    <tr>\n",
              "      <th>4</th>\n",
              "      <td>190319695</td>\n",
              "      <td>08/30/2019</td>\n",
              "      <td>08/30/2019</td>\n",
              "      <td>2100</td>\n",
              "      <td>3</td>\n",
              "      <td>Southwest</td>\n",
              "      <td>374</td>\n",
              "      <td>997</td>\n",
              "      <td>TRAFFIC COLLISION</td>\n",
              "      <td>0605 4025 3037 3004 3025 3101</td>\n",
              "      <td>49.0</td>\n",
              "      <td>M</td>\n",
              "      <td>B</td>\n",
              "      <td>101.0</td>\n",
              "      <td>STREET</td>\n",
              "      <td>MARTIN LUTHER KING JR</td>\n",
              "      <td>ARLINGTON                    AV</td>\n",
              "      <td>(34.0108, -118.3182)</td>\n",
              "    </tr>\n",
              "  </tbody>\n",
              "</table>\n",
              "</div>\n",
              "      <button class=\"colab-df-convert\" onclick=\"convertToInteractive('df-06d0cc15-7d39-4074-906a-674593394e65')\"\n",
              "              title=\"Convert this dataframe to an interactive table.\"\n",
              "              style=\"display:none;\">\n",
              "        \n",
              "  <svg xmlns=\"http://www.w3.org/2000/svg\" height=\"24px\"viewBox=\"0 0 24 24\"\n",
              "       width=\"24px\">\n",
              "    <path d=\"M0 0h24v24H0V0z\" fill=\"none\"/>\n",
              "    <path d=\"M18.56 5.44l.94 2.06.94-2.06 2.06-.94-2.06-.94-.94-2.06-.94 2.06-2.06.94zm-11 1L8.5 8.5l.94-2.06 2.06-.94-2.06-.94L8.5 2.5l-.94 2.06-2.06.94zm10 10l.94 2.06.94-2.06 2.06-.94-2.06-.94-.94-2.06-.94 2.06-2.06.94z\"/><path d=\"M17.41 7.96l-1.37-1.37c-.4-.4-.92-.59-1.43-.59-.52 0-1.04.2-1.43.59L10.3 9.45l-7.72 7.72c-.78.78-.78 2.05 0 2.83L4 21.41c.39.39.9.59 1.41.59.51 0 1.02-.2 1.41-.59l7.78-7.78 2.81-2.81c.8-.78.8-2.07 0-2.86zM5.41 20L4 18.59l7.72-7.72 1.47 1.35L5.41 20z\"/>\n",
              "  </svg>\n",
              "      </button>\n",
              "      \n",
              "  <style>\n",
              "    .colab-df-container {\n",
              "      display:flex;\n",
              "      flex-wrap:wrap;\n",
              "      gap: 12px;\n",
              "    }\n",
              "\n",
              "    .colab-df-convert {\n",
              "      background-color: #E8F0FE;\n",
              "      border: none;\n",
              "      border-radius: 50%;\n",
              "      cursor: pointer;\n",
              "      display: none;\n",
              "      fill: #1967D2;\n",
              "      height: 32px;\n",
              "      padding: 0 0 0 0;\n",
              "      width: 32px;\n",
              "    }\n",
              "\n",
              "    .colab-df-convert:hover {\n",
              "      background-color: #E2EBFA;\n",
              "      box-shadow: 0px 1px 2px rgba(60, 64, 67, 0.3), 0px 1px 3px 1px rgba(60, 64, 67, 0.15);\n",
              "      fill: #174EA6;\n",
              "    }\n",
              "\n",
              "    [theme=dark] .colab-df-convert {\n",
              "      background-color: #3B4455;\n",
              "      fill: #D2E3FC;\n",
              "    }\n",
              "\n",
              "    [theme=dark] .colab-df-convert:hover {\n",
              "      background-color: #434B5C;\n",
              "      box-shadow: 0px 1px 3px 1px rgba(0, 0, 0, 0.15);\n",
              "      filter: drop-shadow(0px 1px 2px rgba(0, 0, 0, 0.3));\n",
              "      fill: #FFFFFF;\n",
              "    }\n",
              "  </style>\n",
              "\n",
              "      <script>\n",
              "        const buttonEl =\n",
              "          document.querySelector('#df-06d0cc15-7d39-4074-906a-674593394e65 button.colab-df-convert');\n",
              "        buttonEl.style.display =\n",
              "          google.colab.kernel.accessAllowed ? 'block' : 'none';\n",
              "\n",
              "        async function convertToInteractive(key) {\n",
              "          const element = document.querySelector('#df-06d0cc15-7d39-4074-906a-674593394e65');\n",
              "          const dataTable =\n",
              "            await google.colab.kernel.invokeFunction('convertToInteractive',\n",
              "                                                     [key], {});\n",
              "          if (!dataTable) return;\n",
              "\n",
              "          const docLinkHtml = 'Like what you see? Visit the ' +\n",
              "            '<a target=\"_blank\" href=https://colab.research.google.com/notebooks/data_table.ipynb>data table notebook</a>'\n",
              "            + ' to learn more about interactive tables.';\n",
              "          element.innerHTML = '';\n",
              "          dataTable['output_type'] = 'display_data';\n",
              "          await google.colab.output.renderOutput(dataTable, element);\n",
              "          const docLink = document.createElement('div');\n",
              "          docLink.innerHTML = docLinkHtml;\n",
              "          element.appendChild(docLink);\n",
              "        }\n",
              "      </script>\n",
              "    </div>\n",
              "  </div>\n",
              "  "
            ]
          },
          "metadata": {},
          "execution_count": 24
        }
      ]
    },
    {
      "cell_type": "code",
      "source": [
        "#shape\n",
        "data.shape"
      ],
      "metadata": {
        "colab": {
          "base_uri": "https://localhost:8080/"
        },
        "id": "RTiJt9GJsxAr",
        "outputId": "96ff05b8-76ae-4944-c6ac-ba8d9fc64c16"
      },
      "execution_count": 5,
      "outputs": [
        {
          "output_type": "execute_result",
          "data": {
            "text/plain": [
              "(88093, 18)"
            ]
          },
          "metadata": {},
          "execution_count": 5
        }
      ]
    },
    {
      "cell_type": "code",
      "source": [
        ""
      ],
      "metadata": {
        "id": "3MZnDKvZs920"
      },
      "execution_count": 10,
      "outputs": []
    },
    {
      "cell_type": "code",
      "source": [
        "#cleaning\n",
        "\n",
        "#missing values\n",
        "data.isnull().sum() #prints columns with corresponding number of missing values\n"
      ],
      "metadata": {
        "colab": {
          "base_uri": "https://localhost:8080/"
        },
        "id": "6muh-7p2tBx3",
        "outputId": "4114d2ad-fc2d-460f-9e3a-019c9e31d36e"
      },
      "execution_count": 7,
      "outputs": [
        {
          "output_type": "execute_result",
          "data": {
            "text/plain": [
              "DR Number                     0\n",
              "Date Reported                 0\n",
              "Date Occurred                 0\n",
              "Time Occurred                 0\n",
              "Area ID                       0\n",
              "Area Name                     0\n",
              "Reporting District            0\n",
              "Crime Code                    0\n",
              "Crime Code Description        0\n",
              "MO Codes                  11079\n",
              "Victim Age                 6393\n",
              "Victim Sex                 1976\n",
              "Victim Descent             2154\n",
              "Premise Code                911\n",
              "Premise Description         912\n",
              "Address                       0\n",
              "Cross Street               5741\n",
              "Location                      1\n",
              "dtype: int64"
            ]
          },
          "metadata": {},
          "execution_count": 7
        }
      ]
    },
    {
      "cell_type": "code",
      "source": [
        "#check proportion of missing values\n",
        "round(data.isnull().sum()/len(data),2) #divides missing values with total length of data and gives output correct to 2 decimal places"
      ],
      "metadata": {
        "colab": {
          "base_uri": "https://localhost:8080/"
        },
        "id": "ldaYz7oBtVMi",
        "outputId": "8335b85d-d6e6-40f1-93ed-b86a8e54ab27"
      },
      "execution_count": 8,
      "outputs": [
        {
          "output_type": "execute_result",
          "data": {
            "text/plain": [
              "DR Number                 0.00\n",
              "Date Reported             0.00\n",
              "Date Occurred             0.00\n",
              "Time Occurred             0.00\n",
              "Area ID                   0.00\n",
              "Area Name                 0.00\n",
              "Reporting District        0.00\n",
              "Crime Code                0.00\n",
              "Crime Code Description    0.00\n",
              "MO Codes                  0.13\n",
              "Victim Age                0.07\n",
              "Victim Sex                0.02\n",
              "Victim Descent            0.02\n",
              "Premise Code              0.01\n",
              "Premise Description       0.01\n",
              "Address                   0.00\n",
              "Cross Street              0.07\n",
              "Location                  0.00\n",
              "dtype: float64"
            ]
          },
          "metadata": {},
          "execution_count": 8
        }
      ]
    },
    {
      "cell_type": "code",
      "source": [
        "#proportion is less than 1% and so we will drop them\n",
        "data.dropna(inplace=True)"
      ],
      "metadata": {
        "id": "sp2w8XnOtwqk"
      },
      "execution_count": 9,
      "outputs": []
    },
    {
      "cell_type": "code",
      "source": [
        "#Duplicates\n",
        "data.duplicated().sum()"
      ],
      "metadata": {
        "colab": {
          "base_uri": "https://localhost:8080/"
        },
        "id": "c-S-99NKt9MW",
        "outputId": "139600e5-7ec7-4a64-bce4-d05791917b1b"
      },
      "execution_count": 10,
      "outputs": [
        {
          "output_type": "execute_result",
          "data": {
            "text/plain": [
              "0"
            ]
          },
          "metadata": {},
          "execution_count": 10
        }
      ]
    },
    {
      "cell_type": "code",
      "source": [
        "#Clean and format column names\n",
        "data.columns = (data.columns.str.strip().str.upper()\n",
        "              .str.replace(' ', '_')\n",
        "              .str.replace('(', '')\n",
        "              .str.replace(')', ''))"
      ],
      "metadata": {
        "colab": {
          "base_uri": "https://localhost:8080/"
        },
        "id": "4ui_B3Zl1rJM",
        "outputId": "12d69ea1-9a61-49a3-e686-0852b2e43f5f"
      },
      "execution_count": 25,
      "outputs": [
        {
          "output_type": "stream",
          "name": "stderr",
          "text": [
            "/usr/local/lib/python3.7/dist-packages/ipykernel_launcher.py:4: FutureWarning: The default value of regex will change from True to False in a future version. In addition, single character regular expressions will *not* be treated as literal strings when regex=True.\n",
            "  after removing the cwd from sys.path.\n",
            "/usr/local/lib/python3.7/dist-packages/ipykernel_launcher.py:5: FutureWarning: The default value of regex will change from True to False in a future version. In addition, single character regular expressions will *not* be treated as literal strings when regex=True.\n",
            "  \"\"\"\n"
          ]
        }
      ]
    },
    {
      "cell_type": "code",
      "source": [
        "data.head()"
      ],
      "metadata": {
        "colab": {
          "base_uri": "https://localhost:8080/",
          "height": 687
        },
        "id": "NJ2IEta_15Xm",
        "outputId": "3892589e-e0c1-4538-eeb8-b16a56c96f0e"
      },
      "execution_count": 26,
      "outputs": [
        {
          "output_type": "execute_result",
          "data": {
            "text/plain": [
              "   DR_NUMBER DATE_REPORTED DATE_OCCURRED  TIME_OCCURRED  AREA_ID   AREA_NAME  \\\n",
              "0  190319651    08/24/2019    08/24/2019            450        3   Southwest   \n",
              "1  190319680    08/30/2019    08/30/2019           2320        3   Southwest   \n",
              "2  190413769    08/25/2019    08/25/2019            545        4  Hollenbeck   \n",
              "3  190127578    11/20/2019    11/20/2019            350        1     Central   \n",
              "4  190319695    08/30/2019    08/30/2019           2100        3   Southwest   \n",
              "\n",
              "   REPORTING_DISTRICT  CRIME_CODE CRIME_CODE_DESCRIPTION  \\\n",
              "0                 356         997      TRAFFIC COLLISION   \n",
              "1                 355         997      TRAFFIC COLLISION   \n",
              "2                 422         997      TRAFFIC COLLISION   \n",
              "3                 128         997      TRAFFIC COLLISION   \n",
              "4                 374         997      TRAFFIC COLLISION   \n",
              "\n",
              "                             MO_CODES  VICTIM_AGE VICTIM_SEX VICTIM_DESCENT  \\\n",
              "0            3036 3004 3026 3101 4003        22.0          M              H   \n",
              "1  3037 3006 3028 3030 3039 3101 4003        30.0          F              H   \n",
              "2            3101 3401 3701 3006 3030         NaN          M              X   \n",
              "3       0605 3101 3401 3701 3011 3034        21.0          M              H   \n",
              "4       0605 4025 3037 3004 3025 3101        49.0          M              B   \n",
              "\n",
              "   PREMISE_CODE PREMISE_DESCRIPTION                          ADDRESS  \\\n",
              "0         101.0              STREET  JEFFERSON                    BL   \n",
              "1         101.0              STREET  JEFFERSON                    BL   \n",
              "2         101.0              STREET                      N  BROADWAY   \n",
              "3         101.0              STREET                              1ST   \n",
              "4         101.0              STREET            MARTIN LUTHER KING JR   \n",
              "\n",
              "                         CROSS_STREET              LOCATION  \n",
              "0     NORMANDIE                    AV  (34.0255, -118.3002)  \n",
              "1                          W  WESTERN  (34.0256, -118.3089)  \n",
              "2  W  EASTLAKE                     AV  (34.0738, -118.2078)  \n",
              "3                             CENTRAL  (34.0492, -118.2391)  \n",
              "4     ARLINGTON                    AV  (34.0108, -118.3182)  "
            ],
            "text/html": [
              "\n",
              "  <div id=\"df-c5fd9668-181b-4672-a70a-79bc18599970\">\n",
              "    <div class=\"colab-df-container\">\n",
              "      <div>\n",
              "<style scoped>\n",
              "    .dataframe tbody tr th:only-of-type {\n",
              "        vertical-align: middle;\n",
              "    }\n",
              "\n",
              "    .dataframe tbody tr th {\n",
              "        vertical-align: top;\n",
              "    }\n",
              "\n",
              "    .dataframe thead th {\n",
              "        text-align: right;\n",
              "    }\n",
              "</style>\n",
              "<table border=\"1\" class=\"dataframe\">\n",
              "  <thead>\n",
              "    <tr style=\"text-align: right;\">\n",
              "      <th></th>\n",
              "      <th>DR_NUMBER</th>\n",
              "      <th>DATE_REPORTED</th>\n",
              "      <th>DATE_OCCURRED</th>\n",
              "      <th>TIME_OCCURRED</th>\n",
              "      <th>AREA_ID</th>\n",
              "      <th>AREA_NAME</th>\n",
              "      <th>REPORTING_DISTRICT</th>\n",
              "      <th>CRIME_CODE</th>\n",
              "      <th>CRIME_CODE_DESCRIPTION</th>\n",
              "      <th>MO_CODES</th>\n",
              "      <th>VICTIM_AGE</th>\n",
              "      <th>VICTIM_SEX</th>\n",
              "      <th>VICTIM_DESCENT</th>\n",
              "      <th>PREMISE_CODE</th>\n",
              "      <th>PREMISE_DESCRIPTION</th>\n",
              "      <th>ADDRESS</th>\n",
              "      <th>CROSS_STREET</th>\n",
              "      <th>LOCATION</th>\n",
              "    </tr>\n",
              "  </thead>\n",
              "  <tbody>\n",
              "    <tr>\n",
              "      <th>0</th>\n",
              "      <td>190319651</td>\n",
              "      <td>08/24/2019</td>\n",
              "      <td>08/24/2019</td>\n",
              "      <td>450</td>\n",
              "      <td>3</td>\n",
              "      <td>Southwest</td>\n",
              "      <td>356</td>\n",
              "      <td>997</td>\n",
              "      <td>TRAFFIC COLLISION</td>\n",
              "      <td>3036 3004 3026 3101 4003</td>\n",
              "      <td>22.0</td>\n",
              "      <td>M</td>\n",
              "      <td>H</td>\n",
              "      <td>101.0</td>\n",
              "      <td>STREET</td>\n",
              "      <td>JEFFERSON                    BL</td>\n",
              "      <td>NORMANDIE                    AV</td>\n",
              "      <td>(34.0255, -118.3002)</td>\n",
              "    </tr>\n",
              "    <tr>\n",
              "      <th>1</th>\n",
              "      <td>190319680</td>\n",
              "      <td>08/30/2019</td>\n",
              "      <td>08/30/2019</td>\n",
              "      <td>2320</td>\n",
              "      <td>3</td>\n",
              "      <td>Southwest</td>\n",
              "      <td>355</td>\n",
              "      <td>997</td>\n",
              "      <td>TRAFFIC COLLISION</td>\n",
              "      <td>3037 3006 3028 3030 3039 3101 4003</td>\n",
              "      <td>30.0</td>\n",
              "      <td>F</td>\n",
              "      <td>H</td>\n",
              "      <td>101.0</td>\n",
              "      <td>STREET</td>\n",
              "      <td>JEFFERSON                    BL</td>\n",
              "      <td>W  WESTERN</td>\n",
              "      <td>(34.0256, -118.3089)</td>\n",
              "    </tr>\n",
              "    <tr>\n",
              "      <th>2</th>\n",
              "      <td>190413769</td>\n",
              "      <td>08/25/2019</td>\n",
              "      <td>08/25/2019</td>\n",
              "      <td>545</td>\n",
              "      <td>4</td>\n",
              "      <td>Hollenbeck</td>\n",
              "      <td>422</td>\n",
              "      <td>997</td>\n",
              "      <td>TRAFFIC COLLISION</td>\n",
              "      <td>3101 3401 3701 3006 3030</td>\n",
              "      <td>NaN</td>\n",
              "      <td>M</td>\n",
              "      <td>X</td>\n",
              "      <td>101.0</td>\n",
              "      <td>STREET</td>\n",
              "      <td>N  BROADWAY</td>\n",
              "      <td>W  EASTLAKE                     AV</td>\n",
              "      <td>(34.0738, -118.2078)</td>\n",
              "    </tr>\n",
              "    <tr>\n",
              "      <th>3</th>\n",
              "      <td>190127578</td>\n",
              "      <td>11/20/2019</td>\n",
              "      <td>11/20/2019</td>\n",
              "      <td>350</td>\n",
              "      <td>1</td>\n",
              "      <td>Central</td>\n",
              "      <td>128</td>\n",
              "      <td>997</td>\n",
              "      <td>TRAFFIC COLLISION</td>\n",
              "      <td>0605 3101 3401 3701 3011 3034</td>\n",
              "      <td>21.0</td>\n",
              "      <td>M</td>\n",
              "      <td>H</td>\n",
              "      <td>101.0</td>\n",
              "      <td>STREET</td>\n",
              "      <td>1ST</td>\n",
              "      <td>CENTRAL</td>\n",
              "      <td>(34.0492, -118.2391)</td>\n",
              "    </tr>\n",
              "    <tr>\n",
              "      <th>4</th>\n",
              "      <td>190319695</td>\n",
              "      <td>08/30/2019</td>\n",
              "      <td>08/30/2019</td>\n",
              "      <td>2100</td>\n",
              "      <td>3</td>\n",
              "      <td>Southwest</td>\n",
              "      <td>374</td>\n",
              "      <td>997</td>\n",
              "      <td>TRAFFIC COLLISION</td>\n",
              "      <td>0605 4025 3037 3004 3025 3101</td>\n",
              "      <td>49.0</td>\n",
              "      <td>M</td>\n",
              "      <td>B</td>\n",
              "      <td>101.0</td>\n",
              "      <td>STREET</td>\n",
              "      <td>MARTIN LUTHER KING JR</td>\n",
              "      <td>ARLINGTON                    AV</td>\n",
              "      <td>(34.0108, -118.3182)</td>\n",
              "    </tr>\n",
              "  </tbody>\n",
              "</table>\n",
              "</div>\n",
              "      <button class=\"colab-df-convert\" onclick=\"convertToInteractive('df-c5fd9668-181b-4672-a70a-79bc18599970')\"\n",
              "              title=\"Convert this dataframe to an interactive table.\"\n",
              "              style=\"display:none;\">\n",
              "        \n",
              "  <svg xmlns=\"http://www.w3.org/2000/svg\" height=\"24px\"viewBox=\"0 0 24 24\"\n",
              "       width=\"24px\">\n",
              "    <path d=\"M0 0h24v24H0V0z\" fill=\"none\"/>\n",
              "    <path d=\"M18.56 5.44l.94 2.06.94-2.06 2.06-.94-2.06-.94-.94-2.06-.94 2.06-2.06.94zm-11 1L8.5 8.5l.94-2.06 2.06-.94-2.06-.94L8.5 2.5l-.94 2.06-2.06.94zm10 10l.94 2.06.94-2.06 2.06-.94-2.06-.94-.94-2.06-.94 2.06-2.06.94z\"/><path d=\"M17.41 7.96l-1.37-1.37c-.4-.4-.92-.59-1.43-.59-.52 0-1.04.2-1.43.59L10.3 9.45l-7.72 7.72c-.78.78-.78 2.05 0 2.83L4 21.41c.39.39.9.59 1.41.59.51 0 1.02-.2 1.41-.59l7.78-7.78 2.81-2.81c.8-.78.8-2.07 0-2.86zM5.41 20L4 18.59l7.72-7.72 1.47 1.35L5.41 20z\"/>\n",
              "  </svg>\n",
              "      </button>\n",
              "      \n",
              "  <style>\n",
              "    .colab-df-container {\n",
              "      display:flex;\n",
              "      flex-wrap:wrap;\n",
              "      gap: 12px;\n",
              "    }\n",
              "\n",
              "    .colab-df-convert {\n",
              "      background-color: #E8F0FE;\n",
              "      border: none;\n",
              "      border-radius: 50%;\n",
              "      cursor: pointer;\n",
              "      display: none;\n",
              "      fill: #1967D2;\n",
              "      height: 32px;\n",
              "      padding: 0 0 0 0;\n",
              "      width: 32px;\n",
              "    }\n",
              "\n",
              "    .colab-df-convert:hover {\n",
              "      background-color: #E2EBFA;\n",
              "      box-shadow: 0px 1px 2px rgba(60, 64, 67, 0.3), 0px 1px 3px 1px rgba(60, 64, 67, 0.15);\n",
              "      fill: #174EA6;\n",
              "    }\n",
              "\n",
              "    [theme=dark] .colab-df-convert {\n",
              "      background-color: #3B4455;\n",
              "      fill: #D2E3FC;\n",
              "    }\n",
              "\n",
              "    [theme=dark] .colab-df-convert:hover {\n",
              "      background-color: #434B5C;\n",
              "      box-shadow: 0px 1px 3px 1px rgba(0, 0, 0, 0.15);\n",
              "      filter: drop-shadow(0px 1px 2px rgba(0, 0, 0, 0.3));\n",
              "      fill: #FFFFFF;\n",
              "    }\n",
              "  </style>\n",
              "\n",
              "      <script>\n",
              "        const buttonEl =\n",
              "          document.querySelector('#df-c5fd9668-181b-4672-a70a-79bc18599970 button.colab-df-convert');\n",
              "        buttonEl.style.display =\n",
              "          google.colab.kernel.accessAllowed ? 'block' : 'none';\n",
              "\n",
              "        async function convertToInteractive(key) {\n",
              "          const element = document.querySelector('#df-c5fd9668-181b-4672-a70a-79bc18599970');\n",
              "          const dataTable =\n",
              "            await google.colab.kernel.invokeFunction('convertToInteractive',\n",
              "                                                     [key], {});\n",
              "          if (!dataTable) return;\n",
              "\n",
              "          const docLinkHtml = 'Like what you see? Visit the ' +\n",
              "            '<a target=\"_blank\" href=https://colab.research.google.com/notebooks/data_table.ipynb>data table notebook</a>'\n",
              "            + ' to learn more about interactive tables.';\n",
              "          element.innerHTML = '';\n",
              "          dataTable['output_type'] = 'display_data';\n",
              "          await google.colab.output.renderOutput(dataTable, element);\n",
              "          const docLink = document.createElement('div');\n",
              "          docLink.innerHTML = docLinkHtml;\n",
              "          element.appendChild(docLink);\n",
              "        }\n",
              "      </script>\n",
              "    </div>\n",
              "  </div>\n",
              "  "
            ]
          },
          "metadata": {},
          "execution_count": 26
        }
      ]
    },
    {
      "cell_type": "code",
      "source": [
        "#data types\n",
        "data.dtypes"
      ],
      "metadata": {
        "colab": {
          "base_uri": "https://localhost:8080/"
        },
        "id": "1SxurjjYuCLw",
        "outputId": "fae01966-7c42-485f-f50b-60f460f7c638"
      },
      "execution_count": 27,
      "outputs": [
        {
          "output_type": "execute_result",
          "data": {
            "text/plain": [
              "DR_NUMBER                   int64\n",
              "DATE_REPORTED              object\n",
              "DATE_OCCURRED              object\n",
              "TIME_OCCURRED               int64\n",
              "AREA_ID                     int64\n",
              "AREA_NAME                  object\n",
              "REPORTING_DISTRICT          int64\n",
              "CRIME_CODE                  int64\n",
              "CRIME_CODE_DESCRIPTION     object\n",
              "MO_CODES                   object\n",
              "VICTIM_AGE                float64\n",
              "VICTIM_SEX                 object\n",
              "VICTIM_DESCENT             object\n",
              "PREMISE_CODE              float64\n",
              "PREMISE_DESCRIPTION        object\n",
              "ADDRESS                    object\n",
              "CROSS_STREET               object\n",
              "LOCATION                   object\n",
              "dtype: object"
            ]
          },
          "metadata": {},
          "execution_count": 27
        }
      ]
    },
    {
      "cell_type": "code",
      "source": [
        "data['DATE_REPORTED'] = pd.to_datetime(data['DATE_REPORTED'])\n",
        "data['DATE_OCCURRED'] = pd.to_datetime(data['DATE_OCCURRED'])\n",
        "data['TIME_OCCURRED'] = pd.to_datetime(data['TIME_OCCURRED'])"
      ],
      "metadata": {
        "id": "edLoYjZM1-X8"
      },
      "execution_count": 28,
      "outputs": []
    },
    {
      "cell_type": "code",
      "source": [
        "#outliers\n",
        "#victim age\n",
        "sns.boxplot(data['VICTIM_AGE'])\n",
        "plt.title('Outliers of different victime ages')"
      ],
      "metadata": {
        "colab": {
          "base_uri": "https://localhost:8080/",
          "height": 368
        },
        "id": "TWIe-QaCuK2Y",
        "outputId": "1a56dad7-3e65-4a7a-ce4e-134d2a2e60f0"
      },
      "execution_count": 29,
      "outputs": [
        {
          "output_type": "stream",
          "name": "stderr",
          "text": [
            "/usr/local/lib/python3.7/dist-packages/seaborn/_decorators.py:43: FutureWarning: Pass the following variable as a keyword arg: x. From version 0.12, the only valid positional argument will be `data`, and passing other arguments without an explicit keyword will result in an error or misinterpretation.\n",
            "  FutureWarning\n"
          ]
        },
        {
          "output_type": "execute_result",
          "data": {
            "text/plain": [
              "Text(0.5, 1.0, 'Outliers of different victime ages')"
            ]
          },
          "metadata": {},
          "execution_count": 29
        },
        {
          "output_type": "display_data",
          "data": {
            "text/plain": [
              "<Figure size 432x288 with 1 Axes>"
            ],
            "image/png": "[encoded data removed]"
          },
          "metadata": {
            "needs_background": "light"
          }
        }
      ]
    },
    {
      "cell_type": "code",
      "source": [
        ""
      ],
      "metadata": {
        "id": "cJu7VvVixMhY"
      },
      "execution_count": null,
      "outputs": []
    }
  ]
}